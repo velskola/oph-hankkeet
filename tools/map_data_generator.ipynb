{
 "cells": [
  {
   "cell_type": "code",
   "execution_count": 53,
   "metadata": {},
   "outputs": [],
   "source": [
    "import pandas as pd\n",
    "import json\n"
   ]
  },
  {
   "cell_type": "code",
   "execution_count": 54,
   "metadata": {},
   "outputs": [
    {
     "name": "stdout",
     "output_type": "stream",
     "text": [
      "16358\n"
     ]
    }
   ],
   "source": [
    "organization_municipality_code_map_file = \"../organizations/municipality_numbers.json\"\n",
    "all_costs_file = \"../organizations/all_costs.csv\"\n",
    "innovation_costs_file = \"../organizations/innovaation_costs.csv\"\n",
    "peruskoulu_costs_file = \"../organizations/peruskoulu_costs.csv\"\n",
    "\n",
    "\n",
    "with open(organization_municipality_code_map_file) as f:\n",
    "    organization_municipality_code_map = json.load(f)\n",
    "\n",
    "all_costs = pd.read_csv(all_costs_file)\n",
    "innovation_costs = pd.read_csv(innovation_costs_file)\n",
    "peruskoulu_costs = pd.read_csv(peruskoulu_costs_file)\n",
    "\n"
   ]
  },
  {
   "cell_type": "code",
   "execution_count": 55,
   "metadata": {},
   "outputs": [],
   "source": [
    "def generate_cost_map(organization_municipality_code_map,data_pd):\n",
    "    map_data ={}\n",
    "    failed_name_matches = 0\n",
    "    for index, row in data_pd.iterrows():\n",
    "        key_missed = False        \n",
    "        try:\n",
    "            organization = organization_municipality_code_map[row[\"Organisaation Nimi\"]][0]\n",
    "        except KeyError:\n",
    "            key_missed=True\n",
    "            pass\n",
    "        if key_missed:\n",
    "            for key in organization_municipality_code_map:\n",
    "                if key in row[\"Organisaation Nimi\"]:\n",
    "                    organization = key\n",
    "                    key_missed = False\n",
    "                    break\n",
    "        if key_missed:\n",
    "            failed_name_matches +=1\n",
    "            continue\n",
    "        municipality_code = 'area'+str(organization)\n",
    "        if municipality_code in map_data:\n",
    "            map_data[municipality_code] = map_data[municipality_code]+int(row[\"Kustannukset\"])\n",
    "        else:\n",
    "            map_data[municipality_code] = int(row[\"Kustannukset\"])\n",
    "    print(str(failed_name_matches)+\" failed name matches out of \"+str(len(data_pd)))\n",
    "    return map_data\n",
    "\n",
    "def generate_count_map(organization_municipality_code_map,data_pd):\n",
    "    map_data ={}\n",
    "    failed_name_matches = 0\n",
    "    for index, row in data_pd.iterrows():\n",
    "        key_missed = False        \n",
    "        try:\n",
    "            organization = organization_municipality_code_map[row[\"Organisaation Nimi\"]][0]\n",
    "        except KeyError:\n",
    "            key_missed=True\n",
    "            pass\n",
    "        if key_missed:\n",
    "            for key in organization_municipality_code_map:\n",
    "                if key in row[\"Organisaation Nimi\"]:\n",
    "                    organization = key\n",
    "                    key_missed = False\n",
    "                    break\n",
    "        if key_missed:\n",
    "            failed_name_matches +=1\n",
    "            continue\n",
    "        municipality_code = 'area'+str(organization)\n",
    "        if municipality_code in map_data:\n",
    "            map_data[municipality_code] = map_data[municipality_code]+1\n",
    "        else:\n",
    "            map_data[municipality_code] = 1    \n",
    "    print(str(failed_name_matches)+\" failed name matches out of \"+str(len(data_pd)))\n",
    "    return map_data"
   ]
  },
  {
   "cell_type": "code",
   "execution_count": 56,
   "metadata": {},
   "outputs": [
    {
     "name": "stdout",
     "output_type": "stream",
     "text": [
      "338 failed name matches out of 1612\n",
      "338 failed name matches out of 1612\n",
      "4 failed name matches out of 25\n",
      "74 failed name matches out of 380\n"
     ]
    }
   ],
   "source": [
    "\n",
    "\n",
    "all_costs_map_data = generate_cost_map(organization_municipality_code_map,all_costs)\n",
    "\n",
    "project_count_map_data = generate_count_map(organization_municipality_code_map,all_costs)\n",
    "\n",
    "innovation_costs_map_data = generate_cost_map(organization_municipality_code_map,innovation_costs)\n",
    "\n",
    "peruskoulu_costs_map_data = generate_cost_map(organization_municipality_code_map,peruskoulu_costs)\n"
   ]
  },
  {
   "cell_type": "code",
   "execution_count": 57,
   "metadata": {},
   "outputs": [],
   "source": [
    "with open('all_costs_map_data.json', 'w') as fp:\n",
    "    json.dump(all_costs_map_data, fp)\n",
    "\n",
    "with open('all_counts_map_data.json', 'w') as fp:\n",
    "    json.dump(project_count_map_data, fp)\n",
    "    \n",
    "with open('innovation_costs_map_data.json', 'w') as fp:\n",
    "    json.dump(innovation_costs_map_data, fp)\n",
    "    \n",
    "with open('peruskoulu_costs_map_data.json', 'w') as fp:\n",
    "    json.dump(peruskoulu_costs_map_data, fp)"
   ]
  },
  {
   "cell_type": "code",
   "execution_count": null,
   "metadata": {},
   "outputs": [],
   "source": []
  }
 ],
 "metadata": {
  "kernelspec": {
   "display_name": "Python 3",
   "language": "python",
   "name": "python3"
  },
  "language_info": {
   "codemirror_mode": {
    "name": "ipython",
    "version": 3
   },
   "file_extension": ".py",
   "mimetype": "text/x-python",
   "name": "python",
   "nbconvert_exporter": "python",
   "pygments_lexer": "ipython3",
   "version": "3.8.5"
  }
 },
 "nbformat": 4,
 "nbformat_minor": 4
}
